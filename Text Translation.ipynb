{
 "cells": [
  {
   "cell_type": "code",
   "id": "initial_id",
   "metadata": {
    "collapsed": true,
    "ExecuteTime": {
     "end_time": "2025-05-15T18:50:10.058009Z",
     "start_time": "2025-05-15T18:50:05.132917Z"
    }
   },
   "source": [
    "import logging\n",
    "import time\n",
    "\n",
    "import numpy as np\n",
    "import matplotlib.pyplot as plt\n",
    "import os\n",
    "os.environ[\"TF_ENABLE_ONEDNN_OPTS\"] = \"0\"\n",
    "os.environ['TF_CPP_MIN_LOG_LEVEL'] = '2'  # Suppress INFO and WARNING logs\n",
    "import tensorflow as tf\n",
    "\n",
    "import tensorflow_datasets as tfds\n",
    "import tensorflow_text"
   ],
   "outputs": [
    {
     "name": "stderr",
     "output_type": "stream",
     "text": [
      "2025-05-15 21:50:07.435929: E external/local_xla/xla/stream_executor/cuda/cuda_fft.cc:467] Unable to register cuFFT factory: Attempting to register factory for plugin cuFFT when one has already been registered\n",
      "WARNING: All log messages before absl::InitializeLog() is called are written to STDERR\n",
      "E0000 00:00:1747335007.495179    1115 cuda_dnn.cc:8579] Unable to register cuDNN factory: Attempting to register factory for plugin cuDNN when one has already been registered\n",
      "E0000 00:00:1747335007.510079    1115 cuda_blas.cc:1407] Unable to register cuBLAS factory: Attempting to register factory for plugin cuBLAS when one has already been registered\n",
      "W0000 00:00:1747335007.581437    1115 computation_placer.cc:177] computation placer already registered. Please check linkage and avoid linking the same target more than once.\n",
      "W0000 00:00:1747335007.581522    1115 computation_placer.cc:177] computation placer already registered. Please check linkage and avoid linking the same target more than once.\n",
      "W0000 00:00:1747335007.581526    1115 computation_placer.cc:177] computation placer already registered. Please check linkage and avoid linking the same target more than once.\n",
      "W0000 00:00:1747335007.581527    1115 computation_placer.cc:177] computation placer already registered. Please check linkage and avoid linking the same target more than once.\n"
     ]
    }
   ],
   "execution_count": 1
  },
  {
   "metadata": {
    "ExecuteTime": {
     "end_time": "2025-05-15T18:50:23.517155Z",
     "start_time": "2025-05-15T18:50:20.211965Z"
    }
   },
   "cell_type": "code",
   "source": [
    "# Use TensorFlow Datasets to load the Portuguese-English translation dataset!!!\n",
    "examples, metadata = tfds.load('ted_hrlr_translate/pt_to_en',  with_info=True, as_supervised=True)\n",
    "train_examples, val_examples = examples['train'], examples['validation']"
   ],
   "id": "dbe59a2e931eb50c",
   "outputs": [
    {
     "name": "stderr",
     "output_type": "stream",
     "text": [
      "E0000 00:00:1747335023.057326    1115 cuda_executor.cc:1228] INTERNAL: CUDA Runtime error: Failed call to cudaGetRuntimeVersion: Error loading CUDA libraries. GPU will not be used.: Error loading CUDA libraries. GPU will not be used.\n",
      "W0000 00:00:1747335023.070343    1115 gpu_device.cc:2341] Cannot dlopen some GPU libraries. Please make sure the missing libraries mentioned above are installed properly if you would like to use GPU. Follow the guide at https://www.tensorflow.org/install/gpu for how to download and setup the required libraries for your platform.\n",
      "Skipping registering GPU devices...\n"
     ]
    }
   ],
   "execution_count": 2
  },
  {
   "metadata": {
    "ExecuteTime": {
     "end_time": "2025-05-15T18:50:39.054360Z",
     "start_time": "2025-05-15T18:50:38.758734Z"
    }
   },
   "cell_type": "code",
   "source": [
    "def preview_translation_examples(dataset, batch_size: int = 5, num_batches: int = 1):\n",
    "    \"\"\"\n",
    "    Prints sample translation examples from the dataset.\n",
    "\n",
    "    Args:\n",
    "        dataset: A `tf.data.Dataset` yielding (pt, en) translation pairs.\n",
    "        batch_size (int): Number of examples per batch to preview.\n",
    "        num_batches (int): Number of batches to preview.\n",
    "    \"\"\"\n",
    "    for batch_num, (pt_batch, en_batch) in enumerate(dataset.batch(batch_size).take(num_batches), start=1):\n",
    "        print(f'--- Batch {batch_num} ---')\n",
    "        for pt, en in zip(pt_batch.numpy(), en_batch.numpy()):\n",
    "            print(f'Portuguese: {pt.decode(\"utf-8\")}')\n",
    "            print(f'English   : {en.decode(\"utf-8\")}\\n')\n",
    "\n",
    "# Usage\n",
    "preview_translation_examples(train_examples)"
   ],
   "id": "223df1ac950ec9ac",
   "outputs": [
    {
     "name": "stdout",
     "output_type": "stream",
     "text": [
      "--- Batch 1 ---\n",
      "Portuguese: e quando melhoramos a procura , tiramos a única vantagem da impressão , que é a serendipidade .\n",
      "English   : and when you improve searchability , you actually take away the one advantage of print , which is serendipity .\n",
      "\n",
      "Portuguese: mas e se estes fatores fossem ativos ?\n",
      "English   : but what if it were active ?\n",
      "\n",
      "Portuguese: mas eles não tinham a curiosidade de me testar .\n",
      "English   : but they did n't test for curiosity .\n",
      "\n",
      "Portuguese: e esta rebeldia consciente é a razão pela qual eu , como agnóstica , posso ainda ter fé .\n",
      "English   : and this conscious defiance is why i , as an agnostic , can still have faith .\n",
      "\n",
      "Portuguese: `` `` '' podem usar tudo sobre a mesa no meu corpo . ''\n",
      "English   : you can use everything on the table on me .\n",
      "\n"
     ]
    }
   ],
   "execution_count": 3
  },
  {
   "metadata": {
    "ExecuteTime": {
     "end_time": "2025-05-06T08:11:28.422772Z",
     "start_time": "2025-05-06T08:11:28.417944Z"
    }
   },
   "cell_type": "code",
   "source": [
    "# Set up the tokenizer!!\n",
    "\n"
   ],
   "id": "c7f306fa58a43401",
   "outputs": [],
   "execution_count": 3
  },
  {
   "metadata": {},
   "cell_type": "code",
   "outputs": [],
   "execution_count": null,
   "source": "",
   "id": "597f489f0d43b036"
  }
 ],
 "metadata": {
  "kernelspec": {
   "display_name": "Python 3",
   "language": "python",
   "name": "python3"
  },
  "language_info": {
   "codemirror_mode": {
    "name": "ipython",
    "version": 2
   },
   "file_extension": ".py",
   "mimetype": "text/x-python",
   "name": "python",
   "nbconvert_exporter": "python",
   "pygments_lexer": "ipython2",
   "version": "2.7.6"
  }
 },
 "nbformat": 4,
 "nbformat_minor": 5
}
