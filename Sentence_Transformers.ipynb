{
 "cells": [
  {
   "cell_type": "code",
   "id": "initial_id",
   "metadata": {
    "collapsed": true
   },
   "source": [
    "# Load the packages and the Model!!\n",
    "from sentence_transformers import SentenceTransformer, util\n",
    "import torch\n",
    "from sklearn.cluster import KMeans\n",
    "\n",
    "# Load a pre-trained SBERT model\n",
    "model = SentenceTransformer('all-MiniLM-L6-v2')  # Fast & accurate"
   ],
   "outputs": [],
   "execution_count": null
  },
  {
   "metadata": {},
   "cell_type": "code",
   "source": [
    "###########  Semantic Textual Similarity ###################\n",
    "\"\"\"\n",
    "Compare the meaning of two sentences.\n",
    "\"\"\"\n",
    "\n",
    "sentence1 = \"A man is playing a guitar\"\n",
    "sentence2 = \"A person is performing music\"\n",
    "\n",
    "# Encode sentences\n",
    "emb1 = model.encode(sentence1, convert_to_tensor=True)\n",
    "emb2 = model.encode(sentence2, convert_to_tensor=True)\n",
    "\n",
    "# Compute cosine similarity\n",
    "similarity = util.pytorch_cos_sim(emb1, emb2)\n",
    "print(f\"Similarity: {similarity.item():.4f}\")"
   ],
   "id": "731f5c1a7947f5eb",
   "outputs": [],
   "execution_count": null
  },
  {
   "metadata": {},
   "cell_type": "code",
   "source": [
    "######### Semantic Search (Information Retrieval)  ##################\n",
    "\"\"\"\n",
    "Find the most relevant documents from a list.\n",
    "\"\"\"\n",
    "corpus = [\n",
    "    \"The cat sits outside\",\n",
    "    \"A man is playing guitar\",\n",
    "    \"I love pizza\",\n",
    "    \"The new movie is amazing\",\n",
    "    \"I have a cat who loves music\"\n",
    "]\n",
    "query = \"A person playing an instrument\"\n",
    "\n",
    "# Encode\n",
    "corpus_embeddings = model.encode(corpus, convert_to_tensor=True)\n",
    "query_embedding = model.encode(query, convert_to_tensor=True)\n",
    "\n",
    "# Search\n",
    "hits = util.semantic_search(query_embedding, corpus_embeddings, top_k=3)[0]\n",
    "for hit in hits:\n",
    "    print(f\"{corpus[hit['corpus_id']]} (Score: {hit['score']:.4f})\")"
   ],
   "id": "aa164a160f65c60a",
   "outputs": [],
   "execution_count": null
  },
  {
   "metadata": {},
   "cell_type": "code",
   "source": [
    "################## Clustering ##############\n",
    "\"\"\"\n",
    "Group similar sentences together (e.g., using KMeans).\n",
    "\"\"\"\n",
    "sentences = [\n",
    "    \"A dog barks\",\n",
    "    \"A puppy is barking loudly\",\n",
    "    \"He plays football\",\n",
    "    \"The soccer game was fun\",\n",
    "    \"Cats are great pets\",\n",
    "    \"The kitten is adorable\"\n",
    "]\n",
    "\n",
    "embeddings = model.encode(sentences)\n",
    "\n",
    "# Cluster into 3 groups\n",
    "kmeans = KMeans(n_clusters=3, random_state=42).fit(embeddings)\n",
    "\n",
    "# Show results\n",
    "for i, label in enumerate(kmeans.labels_):\n",
    "    print(f\"Cluster {label}: {sentences[i]}\")"
   ],
   "id": "e6fddc13ab6d8bd4",
   "outputs": [],
   "execution_count": null
  },
  {
   "metadata": {},
   "cell_type": "code",
   "source": [
    "############  Zero-shot Text Classification (via semantic similarity) #############\n",
    "\"\"\"\n",
    "Assign one of several label descriptions to a sentence based on similarity.\n",
    "\"\"\"\n",
    "\n",
    "sentence = \"I just bought a new phone and I love it and going to watch football with it!\"\n",
    "labels = [\"Technology\", \"Politics\", \"Food\", \"Sports\"]\n",
    "\n",
    "# Encode\n",
    "sentence_emb = model.encode(sentence, convert_to_tensor=True)\n",
    "label_embs = model.encode(labels, convert_to_tensor=True)\n",
    "\n",
    "# Match\n",
    "cos_scores = util.pytorch_cos_sim(sentence_emb, label_embs)[0]\n",
    "top_label_idx = cos_scores.argmax().item()\n",
    "print(f\"Predicted label: {labels[top_label_idx]} (Score: {cos_scores[top_label_idx]:.4f})\")"
   ],
   "id": "460c0d7d3b6929c",
   "outputs": [],
   "execution_count": null
  },
  {
   "metadata": {},
   "cell_type": "code",
   "source": [
    "###########  Duplicate Detection / Paraphrase Mining  ################\n",
    "\"\"\"\n",
    "Identify paraphrases or duplicate questions.\n",
    "\"\"\"\n",
    "sentences = [\n",
    "    \"How can I learn Python?\",\n",
    "    \"What’s the best way to study Python programming?\",\n",
    "    \"Tips for improving Python coding skills\",\n",
    "    \"Where can I find good pizza in NYC?\",\n",
    "    \"Pizza places in New York City\"\n",
    "]\n",
    "\n",
    "embeddings = model.encode(sentences, convert_to_tensor=True)\n",
    "pairs = util.paraphrase_mining_embeddings(embeddings)\n",
    "\n",
    "# Show top pairs\n",
    "for score, i, j in pairs[:3]:\n",
    "    print(f\"Score: {score:.4f} | '{sentences[i]}' <--> '{sentences[j]}'\")"
   ],
   "id": "ecea1e4921f69a0d",
   "outputs": [],
   "execution_count": null
  }
 ],
 "metadata": {
  "kernelspec": {
   "display_name": "Python 3",
   "language": "python",
   "name": "python3"
  },
  "language_info": {
   "codemirror_mode": {
    "name": "ipython",
    "version": 2
   },
   "file_extension": ".py",
   "mimetype": "text/x-python",
   "name": "python",
   "nbconvert_exporter": "python",
   "pygments_lexer": "ipython2",
   "version": "2.7.6"
  }
 },
 "nbformat": 4,
 "nbformat_minor": 5
}
