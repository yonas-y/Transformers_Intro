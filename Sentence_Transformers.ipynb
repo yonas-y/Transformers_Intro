{
 "cells": [
  {
   "cell_type": "code",
   "id": "initial_id",
   "metadata": {
    "collapsed": true,
    "ExecuteTime": {
     "end_time": "2025-05-22T13:48:23.405764Z",
     "start_time": "2025-05-22T13:46:11.930544Z"
    }
   },
   "source": [
    "# Load the packages and the Model!!\n",
    "from sentence_transformers import SentenceTransformer, util\n",
    "import torch\n",
    "from sklearn.cluster import KMeans\n",
    "\n",
    "# Load a pre-trained SBERT model\n",
    "model = SentenceTransformer('all-MiniLM-L6-v2')  # Fast & accurate"
   ],
   "outputs": [
    {
     "name": "stderr",
     "output_type": "stream",
     "text": [
      "/home/yonas/Venvs/torch_venv/lib/python3.9/site-packages/torch/cuda/__init__.py:174: UserWarning: CUDA initialization: The NVIDIA driver on your system is too old (found version 11040). Please update your GPU driver by downloading and installing a new version from the URL: http://www.nvidia.com/Download/index.aspx Alternatively, go to: https://pytorch.org to install a PyTorch version that has been compiled with your version of the CUDA driver. (Triggered internally at /pytorch/c10/cuda/CUDAFunctions.cpp:109.)\n",
      "  return torch._C._cuda_getDeviceCount() > 0\n"
     ]
    },
    {
     "data": {
      "text/plain": [
       "modules.json:   0%|          | 0.00/349 [00:00<?, ?B/s]"
      ],
      "application/vnd.jupyter.widget-view+json": {
       "version_major": 2,
       "version_minor": 0,
       "model_id": "975f2971c0cc4eeb9d255246c974f9ee"
      }
     },
     "metadata": {},
     "output_type": "display_data"
    },
    {
     "data": {
      "text/plain": [
       "config_sentence_transformers.json:   0%|          | 0.00/116 [00:00<?, ?B/s]"
      ],
      "application/vnd.jupyter.widget-view+json": {
       "version_major": 2,
       "version_minor": 0,
       "model_id": "8f1b887dbd88476da971fe0e2f31ee61"
      }
     },
     "metadata": {},
     "output_type": "display_data"
    },
    {
     "data": {
      "text/plain": [
       "README.md:   0%|          | 0.00/10.5k [00:00<?, ?B/s]"
      ],
      "application/vnd.jupyter.widget-view+json": {
       "version_major": 2,
       "version_minor": 0,
       "model_id": "6ff4360c515b4f9482f5fc5cf1d1a047"
      }
     },
     "metadata": {},
     "output_type": "display_data"
    },
    {
     "data": {
      "text/plain": [
       "sentence_bert_config.json:   0%|          | 0.00/53.0 [00:00<?, ?B/s]"
      ],
      "application/vnd.jupyter.widget-view+json": {
       "version_major": 2,
       "version_minor": 0,
       "model_id": "f6ee2e12e1e9466f801b68b587c162ed"
      }
     },
     "metadata": {},
     "output_type": "display_data"
    },
    {
     "data": {
      "text/plain": [
       "config.json:   0%|          | 0.00/612 [00:00<?, ?B/s]"
      ],
      "application/vnd.jupyter.widget-view+json": {
       "version_major": 2,
       "version_minor": 0,
       "model_id": "9e99c8bf54c5483a90138416b2f38ed8"
      }
     },
     "metadata": {},
     "output_type": "display_data"
    },
    {
     "name": "stderr",
     "output_type": "stream",
     "text": [
      "Xet Storage is enabled for this repo, but the 'hf_xet' package is not installed. Falling back to regular HTTP download. For better performance, install the package with: `pip install huggingface_hub[hf_xet]` or `pip install hf_xet`\n"
     ]
    },
    {
     "data": {
      "text/plain": [
       "model.safetensors:   0%|          | 0.00/90.9M [00:00<?, ?B/s]"
      ],
      "application/vnd.jupyter.widget-view+json": {
       "version_major": 2,
       "version_minor": 0,
       "model_id": "bd02d9432fb6402b950b63bb40ec69cf"
      }
     },
     "metadata": {},
     "output_type": "display_data"
    },
    {
     "data": {
      "text/plain": [
       "tokenizer_config.json:   0%|          | 0.00/350 [00:00<?, ?B/s]"
      ],
      "application/vnd.jupyter.widget-view+json": {
       "version_major": 2,
       "version_minor": 0,
       "model_id": "fb2fe30681394a9c93703d500e63d1eb"
      }
     },
     "metadata": {},
     "output_type": "display_data"
    },
    {
     "data": {
      "text/plain": [
       "vocab.txt:   0%|          | 0.00/232k [00:00<?, ?B/s]"
      ],
      "application/vnd.jupyter.widget-view+json": {
       "version_major": 2,
       "version_minor": 0,
       "model_id": "06fea4d4433642b48693b8c450251f4d"
      }
     },
     "metadata": {},
     "output_type": "display_data"
    },
    {
     "data": {
      "text/plain": [
       "tokenizer.json:   0%|          | 0.00/466k [00:00<?, ?B/s]"
      ],
      "application/vnd.jupyter.widget-view+json": {
       "version_major": 2,
       "version_minor": 0,
       "model_id": "dd6b14e9ff35492ba58c6b5396dd7aed"
      }
     },
     "metadata": {},
     "output_type": "display_data"
    },
    {
     "data": {
      "text/plain": [
       "special_tokens_map.json:   0%|          | 0.00/112 [00:00<?, ?B/s]"
      ],
      "application/vnd.jupyter.widget-view+json": {
       "version_major": 2,
       "version_minor": 0,
       "model_id": "1c2f948ee70d4585ac90dbe897b4860d"
      }
     },
     "metadata": {},
     "output_type": "display_data"
    },
    {
     "data": {
      "text/plain": [
       "config.json:   0%|          | 0.00/190 [00:00<?, ?B/s]"
      ],
      "application/vnd.jupyter.widget-view+json": {
       "version_major": 2,
       "version_minor": 0,
       "model_id": "c7c0e12db1a04e81a5a02689dfbd1127"
      }
     },
     "metadata": {},
     "output_type": "display_data"
    }
   ],
   "execution_count": 1
  },
  {
   "metadata": {
    "ExecuteTime": {
     "end_time": "2025-05-22T13:50:24.692963Z",
     "start_time": "2025-05-22T13:50:24.522301Z"
    }
   },
   "cell_type": "code",
   "source": [
    "###########  Semantic Textual Similarity ###################\n",
    "\"\"\"\n",
    "Compare the meaning of two sentences.\n",
    "\"\"\"\n",
    "\n",
    "sentence1 = \"A man is playing a guitar\"\n",
    "sentence2 = \"A person is performing music\"\n",
    "\n",
    "# Encode sentences\n",
    "emb1 = model.encode(sentence1, convert_to_tensor=True)\n",
    "emb2 = model.encode(sentence2, convert_to_tensor=True)\n",
    "\n",
    "# Compute cosine similarity\n",
    "similarity = util.pytorch_cos_sim(emb1, emb2)\n",
    "print(f\"Similarity: {similarity.item():.4f}\")"
   ],
   "id": "731f5c1a7947f5eb",
   "outputs": [
    {
     "name": "stdout",
     "output_type": "stream",
     "text": [
      "Similarity: 0.6417\n"
     ]
    }
   ],
   "execution_count": 4
  },
  {
   "metadata": {
    "ExecuteTime": {
     "end_time": "2025-05-22T13:50:02.556988Z",
     "start_time": "2025-05-22T13:50:02.490432Z"
    }
   },
   "cell_type": "code",
   "source": "",
   "id": "aa164a160f65c60a",
   "outputs": [
    {
     "data": {
      "text/plain": [
       "tensor([ 2.0166e-02, -6.7581e-03, -6.7631e-03, -6.4376e-02, -1.6052e-01,\n",
       "         3.6586e-04,  7.4322e-02, -2.3552e-02, -1.1231e-02,  5.8935e-02,\n",
       "        -3.3138e-03,  1.4464e-02, -3.2685e-02, -4.1988e-03,  4.9535e-02,\n",
       "         6.5414e-03, -4.8803e-03,  3.8985e-02,  7.9593e-02,  1.8010e-02,\n",
       "         6.4069e-02,  1.1563e-01, -7.6335e-02, -5.3499e-02, -3.6927e-02,\n",
       "        -6.4969e-03,  8.8151e-04,  1.5214e-01,  7.3277e-03, -2.8545e-03,\n",
       "         9.6981e-02,  2.8477e-02,  8.2852e-03, -7.7340e-02, -1.2899e-01,\n",
       "        -2.5143e-02, -1.3362e-01, -3.8431e-02, -1.0927e-02, -4.5478e-02,\n",
       "         3.6776e-03, -2.4874e-02,  3.0344e-02,  8.6553e-02, -2.8956e-02,\n",
       "        -2.6844e-02, -4.4577e-02, -1.0179e-02,  1.2767e-02, -5.0687e-02,\n",
       "        -6.0824e-03,  4.8340e-02,  6.4423e-02, -6.5424e-02,  4.2060e-02,\n",
       "         1.1605e-02, -2.1724e-02,  6.1911e-02, -2.4663e-02, -3.8475e-02,\n",
       "        -2.8715e-02, -1.8676e-02,  1.9252e-02,  3.0594e-02,  3.9128e-02,\n",
       "        -4.6102e-02,  4.6507e-02, -6.2154e-02, -2.4773e-02,  5.8900e-02,\n",
       "        -1.4752e-02, -6.2551e-02,  1.1447e-03, -1.1035e-02,  9.3277e-02,\n",
       "         5.5168e-02,  2.5182e-02,  1.0820e-02, -6.4844e-02,  5.0676e-02,\n",
       "         9.7157e-02,  1.7141e-02, -4.4011e-02, -7.4558e-02, -3.8125e-02,\n",
       "        -5.2944e-03,  2.8000e-02,  5.4944e-02, -4.5982e-02, -1.1065e-02,\n",
       "         3.1678e-02,  2.0486e-02, -2.6595e-02, -1.3791e-02, -1.2626e-01,\n",
       "        -3.7031e-03, -1.3060e-02,  3.9779e-02, -8.5817e-02,  1.5850e-02,\n",
       "        -1.5961e-02, -7.5015e-02,  1.2194e-01,  2.6012e-02,  1.0413e-02,\n",
       "         7.6235e-02,  2.1272e-02,  1.1776e-01,  1.9261e-02, -1.1169e-01,\n",
       "         2.8775e-02,  5.1799e-04, -1.0581e-01,  1.3021e-02,  6.5677e-02,\n",
       "        -4.1153e-03,  4.9183e-04,  1.6231e-02,  4.6420e-02,  5.6186e-02,\n",
       "         3.8301e-02, -2.4039e-02, -7.4418e-03,  5.7132e-02, -2.2000e-02,\n",
       "         7.5397e-02, -3.3050e-03, -1.1081e-32,  3.3747e-02, -6.6672e-02,\n",
       "         2.6060e-02, -5.8587e-02,  1.4436e-02, -7.6835e-02, -7.7605e-02,\n",
       "         5.7497e-02,  2.8186e-02,  1.9948e-02,  8.7094e-02,  7.3512e-02,\n",
       "         3.0822e-02,  5.2018e-02, -2.9065e-03,  4.4879e-02,  3.6996e-04,\n",
       "        -1.3882e-02, -6.1813e-03, -6.4494e-02, -3.9237e-02, -4.1109e-02,\n",
       "         3.1367e-02, -4.0690e-03,  3.4618e-02, -2.2766e-03,  8.1788e-02,\n",
       "        -4.6160e-02,  5.1028e-02, -2.5905e-02, -3.3494e-02, -2.4872e-02,\n",
       "        -1.4624e-02, -4.6631e-02,  3.0196e-02,  2.3097e-02, -3.5386e-02,\n",
       "         7.8960e-02, -3.4045e-02, -3.2321e-03, -5.9658e-02, -2.4331e-02,\n",
       "        -1.1699e-02, -5.0137e-03, -1.3560e-02, -9.2487e-02, -2.7281e-02,\n",
       "         5.4032e-02,  5.1083e-02, -4.7163e-03,  6.7318e-02, -2.4269e-02,\n",
       "         6.0118e-02,  1.1176e-02, -2.3816e-02,  1.6264e-02,  4.1159e-02,\n",
       "        -1.6631e-02,  1.1379e-02,  5.0943e-02, -4.2659e-02, -3.1488e-02,\n",
       "         6.4674e-02,  5.0968e-02, -7.8310e-03,  4.5300e-03,  8.5891e-02,\n",
       "        -1.2974e-01, -3.7880e-02, -1.6376e-02, -6.6562e-03, -2.4213e-02,\n",
       "         7.5959e-02, -5.4583e-02,  2.0293e-02,  1.6724e-02, -5.8488e-02,\n",
       "        -2.1917e-02, -3.1301e-02, -1.6702e-02, -4.5611e-02, -5.0871e-03,\n",
       "         8.6293e-03, -5.2338e-02, -5.1540e-02,  2.9221e-02, -6.4267e-03,\n",
       "         7.2086e-04,  1.0215e-01,  2.8972e-02, -5.4190e-02, -4.6536e-02,\n",
       "        -6.9018e-02,  1.2754e-03,  1.1699e-01,  5.3805e-33,  1.0921e-02,\n",
       "         2.2303e-02,  1.1480e-02,  3.1266e-02,  5.4475e-02,  5.1665e-02,\n",
       "         5.7307e-02,  5.6229e-02, -3.0748e-02, -4.2257e-02,  3.1844e-02,\n",
       "         8.2643e-02,  1.1750e-01, -6.6157e-02, -5.0136e-03,  2.0129e-02,\n",
       "        -1.6930e-01,  4.8817e-02,  8.0675e-02,  2.8091e-02, -5.0672e-02,\n",
       "         1.6966e-02,  9.5687e-02, -4.7769e-02, -4.5842e-05, -6.7871e-02,\n",
       "        -8.0148e-03, -4.5599e-02, -1.9884e-02, -3.5128e-03, -1.0222e-02,\n",
       "         6.0844e-02,  4.8130e-02, -1.2671e-01, -5.1847e-02,  1.7979e-02,\n",
       "         1.0064e-01,  3.4064e-02,  5.4136e-02,  5.0309e-02, -4.4802e-02,\n",
       "         7.4162e-02,  3.6268e-02, -3.9037e-02, -2.4977e-02,  2.7121e-02,\n",
       "         6.8158e-02,  1.6883e-03, -6.0230e-03, -8.9192e-03, -5.5160e-03,\n",
       "         7.9126e-03,  5.9639e-02, -9.6484e-02, -1.3491e-02,  9.2755e-02,\n",
       "        -1.0161e-02, -2.4904e-02, -4.8906e-02,  1.0103e-01, -4.6560e-02,\n",
       "         5.0151e-02,  6.0121e-03, -7.5693e-02,  3.2774e-02,  3.7615e-02,\n",
       "        -1.0138e-02, -2.0951e-02,  3.0176e-02, -3.1923e-02, -4.9236e-02,\n",
       "        -3.1009e-02, -4.9275e-02, -1.1666e-02,  1.0070e-02, -1.7661e-02,\n",
       "        -5.7401e-02, -6.7314e-02,  2.2243e-02, -2.5249e-02,  1.0152e-01,\n",
       "        -3.6525e-02, -2.1080e-02, -3.9216e-02, -6.6529e-02, -2.7898e-02,\n",
       "         6.7649e-02,  7.8086e-03, -9.9279e-02,  1.6259e-02,  5.3039e-02,\n",
       "         3.2280e-02, -5.3811e-02,  8.4551e-03,  3.6172e-02, -1.8498e-08,\n",
       "        -3.8734e-02,  1.3558e-02, -3.2809e-02, -5.3157e-02,  5.9898e-02,\n",
       "         9.6983e-02,  5.8603e-02, -7.7989e-02,  7.5184e-02, -7.2667e-03,\n",
       "        -5.4727e-03, -4.6701e-02, -1.5990e-03, -1.4149e-03, -5.2513e-02,\n",
       "        -1.7966e-02, -3.3362e-02,  3.6836e-02, -5.5969e-02,  4.4910e-02,\n",
       "         5.7139e-02,  4.1593e-02, -1.7116e-02, -4.8637e-02,  2.1030e-02,\n",
       "         1.1317e-02,  2.7851e-02,  7.6793e-02,  8.1334e-03,  6.4449e-02,\n",
       "        -1.6442e-02,  3.7426e-02, -1.3875e-02, -2.4757e-02, -6.0117e-02,\n",
       "        -2.3740e-02,  2.8492e-02, -1.5107e-02, -1.1166e-02, -1.3842e-02,\n",
       "        -7.5536e-02,  6.7304e-02, -8.1799e-02, -3.7380e-02, -5.8362e-02,\n",
       "        -9.3240e-03,  4.7438e-02, -5.3414e-03, -6.9272e-02, -2.8050e-03,\n",
       "        -3.7832e-02, -6.5660e-02, -7.8102e-03, -5.7051e-02,  2.1067e-02,\n",
       "        -3.3967e-02, -4.0484e-02,  1.0132e-01, -4.6684e-02, -1.1088e-01,\n",
       "        -4.1673e-02, -2.2850e-02,  8.3809e-02, -2.1250e-02])"
      ]
     },
     "execution_count": 3,
     "metadata": {},
     "output_type": "execute_result"
    }
   ],
   "execution_count": 3
  },
  {
   "metadata": {},
   "cell_type": "code",
   "outputs": [],
   "execution_count": null,
   "source": "",
   "id": "a08b5625ad81c212"
  }
 ],
 "metadata": {
  "kernelspec": {
   "display_name": "Python 3",
   "language": "python",
   "name": "python3"
  },
  "language_info": {
   "codemirror_mode": {
    "name": "ipython",
    "version": 2
   },
   "file_extension": ".py",
   "mimetype": "text/x-python",
   "name": "python",
   "nbconvert_exporter": "python",
   "pygments_lexer": "ipython2",
   "version": "2.7.6"
  }
 },
 "nbformat": 4,
 "nbformat_minor": 5
}
